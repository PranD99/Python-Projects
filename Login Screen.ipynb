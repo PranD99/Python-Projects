{
 "cells": [
  {
   "cell_type": "markdown",
   "metadata": {},
   "source": [
    "# Login Screen"
   ]
  },
  {
   "cell_type": "code",
   "execution_count": 1,
   "metadata": {},
   "outputs": [],
   "source": [
    "from tkinter import *\n",
    "from tkinter import messagebox\n",
    "\n",
    "# Username-pythoncoder\n",
    "# PassWord-Pysk@\n",
    "def user_valid():\n",
    "    a=ery2.get()\n",
    "    b=ery3.get()\n",
    "    if a.lower()==\"prantik\" and b==\"Prantik@987\":\n",
    "        messagebox.showinfo(\"Welcome\",\"Successful LogIn\")\n",
    "    else:\n",
    "        messagebox.showinfo(\"Error\",\"Wrong Username or Password\")\n",
    "\n",
    "def close():\n",
    "    master.destroy()\n",
    "master=Tk()\n",
    "master.title(\"LogIn\")\n",
    "master.geometry(\"360x340\")\n",
    "master.configure(bg=\"black\")\n",
    "\n",
    "label=Label(master,text=\" LogIn Page \",relief=\"ridge\",font=(\"calibri\",18),bg=\"black\",fg=\"white\")\n",
    "label.place(x=120,y=20)\n",
    "\n",
    "label2=Label(master,text=\"UserName\",font=(\"arial\",14),fg=\"white\",bg=\"black\")\n",
    "label2.place(x=50,y=80)\n",
    "global ery2,ery3\n",
    "ery2=Entry(master,width=25)\n",
    "ery2.place(x=190,y=80)\n",
    "\n",
    "\n",
    "\n",
    "label3=Label(master,text=\"Password\",font=(\"arial\",14),fg=\"white\",bg=\"black\")\n",
    "label3.place(x=50,y=140)\n",
    "\n",
    "ery3=Entry(master,width=25)\n",
    "ery3.place(x=190,y=140)\n",
    "\n",
    "\n",
    "\n",
    "button1=Button(master,text=\"Login\",font=(\"arial\",11),command=user_valid,bg=\"red\")\n",
    "button1.place(x=120,y=190)\n",
    "\n",
    "button2=Button(master,text=\"Quit\",font=(\"arial\",11),command=close,bg=\"red\")\n",
    "button2.place(x=240,y=190)\n",
    "\n",
    "\n",
    "\n",
    "\n",
    "\n",
    "        \n",
    "\n",
    "master.mainloop()\n"
   ]
  },
  {
   "cell_type": "code",
   "execution_count": null,
   "metadata": {},
   "outputs": [],
   "source": []
  }
 ],
 "metadata": {
  "kernelspec": {
   "display_name": "Python 3",
   "language": "python",
   "name": "python3"
  },
  "language_info": {
   "codemirror_mode": {
    "name": "ipython",
    "version": 3
   },
   "file_extension": ".py",
   "mimetype": "text/x-python",
   "name": "python",
   "nbconvert_exporter": "python",
   "pygments_lexer": "ipython3",
   "version": "3.8.3"
  }
 },
 "nbformat": 4,
 "nbformat_minor": 4
}
