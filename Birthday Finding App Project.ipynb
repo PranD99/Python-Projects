{
 "cells": [
  {
   "cell_type": "markdown",
   "metadata": {},
   "source": [
    "# Birthday Finding App Project"
   ]
  },
  {
   "cell_type": "code",
   "execution_count": null,
   "metadata": {},
   "outputs": [
    {
     "name": "stdout",
     "output_type": "stream",
     "text": [
      "----------Birthday App----------\n",
      "1.Show Birthday Date\n",
      "2.Add To Birthday List\n",
      "3.EXIT\n",
      "Enter Your Choice1\n",
      "nothing to show\n",
      "----------Birthday App----------\n",
      "1.Show Birthday Date\n",
      "2.Add To Birthday List\n",
      "3.EXIT\n",
      "Enter Your Choice2\n",
      "Enter Friend's nameBiswarup\n",
      "Enter Birthday's date09/10/1999\n",
      "Birthday Added\n",
      "----------Birthday App----------\n",
      "1.Show Birthday Date\n",
      "2.Add To Birthday List\n",
      "3.EXIT\n",
      "Enter Your Choice2\n",
      "Enter Friend's namePrantik\n",
      "Enter Birthday's date08/10/1999\n",
      "Birthday Added\n",
      "----------Birthday App----------\n",
      "1.Show Birthday Date\n",
      "2.Add To Birthday List\n",
      "3.EXIT\n",
      "Enter Your Choice1\n",
      "enter name to look for birthdayBiswarup\n",
      "09/10/1999\n",
      "----------Birthday App----------\n",
      "1.Show Birthday Date\n",
      "2.Add To Birthday List\n",
      "3.EXIT\n",
      "Enter Your Choice3\n",
      "press enter to exit\n",
      "----------Birthday App----------\n",
      "1.Show Birthday Date\n",
      "2.Add To Birthday List\n",
      "3.EXIT\n",
      "Enter Your Choice3\n",
      "press enter to exit\n",
      "----------Birthday App----------\n",
      "1.Show Birthday Date\n",
      "2.Add To Birthday List\n",
      "3.EXIT\n"
     ]
    }
   ],
   "source": [
    "dict={}\n",
    "while True:\n",
    "    print(\"----------Birthday App----------\")\n",
    "    print(\"1.Show Birthday Date\")\n",
    "    print(\"2.Add To Birthday List\")\n",
    "    print(\"3.EXIT\")\n",
    "    choice=int(input(\"Enter Your Choice\"))\n",
    "    if choice==1:\n",
    "        if len(dict.keys())==0:\n",
    "               print(\"nothing to show\")\n",
    "        else:\n",
    "               name=input(\"enter name to look for birthday\")\n",
    "               birthday=dict.get(name,\"No Data Found\")\n",
    "               print(birthday)\n",
    "    elif choice==2:\n",
    "               name=input(\"Enter Friend's name\")\n",
    "               date=input(\"Enter Birthday's date\")\n",
    "               dict[name]=date\n",
    "               print(\"Birthday Added\")\n",
    "    elif choice==3:\n",
    "        \n",
    "              print(\"press enter to exit\")\n",
    "              exit()\n",
    "    else:\n",
    "               print(\"Choose a valid Option\")\n"
   ]
  },
  {
   "cell_type": "code",
   "execution_count": null,
   "metadata": {},
   "outputs": [],
   "source": []
  }
 ],
 "metadata": {
  "kernelspec": {
   "display_name": "Python 3",
   "language": "python",
   "name": "python3"
  },
  "language_info": {
   "codemirror_mode": {
    "name": "ipython",
    "version": 3
   },
   "file_extension": ".py",
   "mimetype": "text/x-python",
   "name": "python",
   "nbconvert_exporter": "python",
   "pygments_lexer": "ipython3",
   "version": "3.7.6"
  }
 },
 "nbformat": 4,
 "nbformat_minor": 4
}
